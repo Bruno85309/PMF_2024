{
 "cells": [
  {
   "cell_type": "markdown",
   "metadata": {},
   "source": [
    "# 1. Correlação entre indicadores macroeconômicos"
   ]
  },
  {
   "cell_type": "code",
   "execution_count": 6,
   "metadata": {},
   "outputs": [],
   "source": [
    "import numpy as np\n",
    "import pandas as pd\n",
    "import seaborn as sns\n",
    "from bcb import sgs"
   ]
  },
  {
   "cell_type": "code",
   "execution_count": 4,
   "metadata": {},
   "outputs": [],
   "source": [
    "# 1. Criar df vazios\n",
    "selic2 = pd.DataFrame()\n",
    "confianca_consumidor2 = pd.DataFrame()\n",
    "pib2 = pd.DataFrame()\n",
    "incc2 = pd.DataFrame()\n",
    "ipca2 = pd.DataFrame()\n",
    "dolar2 = pd.DataFrame()"
   ]
  },
  {
   "cell_type": "code",
   "execution_count": 27,
   "metadata": {},
   "outputs": [],
   "source": [
    "selic2['SELIC'] = sgs.get({'valor': 432}, start= \"2015-01-01\", end= \"2022-12-31\", freq= 'M')\n",
    "confianca_consumidor2['CONFIANCA'] = sgs.get({'valor': 4393}, start= \"2015-01-01\", end= \"2022-12-31\", freq= 'M')\n",
    "pib2['PIB'] = sgs.get({'valor': 4380}, start= \"2015-01-01\", end= \"2022-12-31\", freq= 'M')\n",
    "ipca2['IPCA'] = sgs.get({'valor': 13522}, start= \"2015-01-01\", end= \"2022-12-31\", freq= 'M')\n",
    "incc2['INCC'] = sgs.get({'valor': 192}, start= \"2015-01-01\", end= \"2022-12-31\", freq= 'M')\n",
    "dolar2['DOLAR'] = sgs.get({'valor': 10813}, start= \"2015-01-01\", end= \"2022-12-31\", freq= 'M')"
   ]
  },
  {
   "cell_type": "code",
   "execution_count": 42,
   "metadata": {},
   "outputs": [
    {
     "name": "stdout",
     "output_type": "stream",
     "text": [
      "2922 96 96 96 96 2006\n"
     ]
    }
   ],
   "source": [
    "# Pela ausência do nasdaqdatalink, nem todos terão a mesma quantidade de dados\n",
    "print(len(selic2), len(confianca_consumidor2), len(pib2), len(ipca2), len(incc2), len(dolar2))"
   ]
  },
  {
   "cell_type": "code",
   "execution_count": 43,
   "metadata": {},
   "outputs": [
    {
     "data": {
      "text/html": [
       "<div>\n",
       "<style scoped>\n",
       "    .dataframe tbody tr th:only-of-type {\n",
       "        vertical-align: middle;\n",
       "    }\n",
       "\n",
       "    .dataframe tbody tr th {\n",
       "        vertical-align: top;\n",
       "    }\n",
       "\n",
       "    .dataframe thead th {\n",
       "        text-align: right;\n",
       "    }\n",
       "</style>\n",
       "<table border=\"1\" class=\"dataframe\">\n",
       "  <thead>\n",
       "    <tr style=\"text-align: right;\">\n",
       "      <th></th>\n",
       "      <th>CONFIANCA</th>\n",
       "      <th>PIB</th>\n",
       "      <th>IPCA</th>\n",
       "      <th>INCC</th>\n",
       "    </tr>\n",
       "    <tr>\n",
       "      <th>Date</th>\n",
       "      <th></th>\n",
       "      <th></th>\n",
       "      <th></th>\n",
       "      <th></th>\n",
       "    </tr>\n",
       "  </thead>\n",
       "  <tbody>\n",
       "    <tr>\n",
       "      <th>2015-01</th>\n",
       "      <td>112.69</td>\n",
       "      <td>474390.0</td>\n",
       "      <td>7.14</td>\n",
       "      <td>0.92</td>\n",
       "    </tr>\n",
       "    <tr>\n",
       "      <th>2015-02</th>\n",
       "      <td>112.89</td>\n",
       "      <td>466745.0</td>\n",
       "      <td>7.70</td>\n",
       "      <td>0.31</td>\n",
       "    </tr>\n",
       "    <tr>\n",
       "      <th>2015-03</th>\n",
       "      <td>106.86</td>\n",
       "      <td>515523.6</td>\n",
       "      <td>8.13</td>\n",
       "      <td>0.62</td>\n",
       "    </tr>\n",
       "    <tr>\n",
       "      <th>2015-04</th>\n",
       "      <td>101.56</td>\n",
       "      <td>497109.5</td>\n",
       "      <td>8.17</td>\n",
       "      <td>0.46</td>\n",
       "    </tr>\n",
       "    <tr>\n",
       "      <th>2015-05</th>\n",
       "      <td>91.77</td>\n",
       "      <td>492308.4</td>\n",
       "      <td>8.47</td>\n",
       "      <td>0.95</td>\n",
       "    </tr>\n",
       "    <tr>\n",
       "      <th>...</th>\n",
       "      <td>...</td>\n",
       "      <td>...</td>\n",
       "      <td>...</td>\n",
       "      <td>...</td>\n",
       "    </tr>\n",
       "    <tr>\n",
       "      <th>2022-08</th>\n",
       "      <td>106.76</td>\n",
       "      <td>873772.7</td>\n",
       "      <td>8.73</td>\n",
       "      <td>0.09</td>\n",
       "    </tr>\n",
       "    <tr>\n",
       "      <th>2022-09</th>\n",
       "      <td>111.46</td>\n",
       "      <td>857918.0</td>\n",
       "      <td>7.17</td>\n",
       "      <td>0.09</td>\n",
       "    </tr>\n",
       "    <tr>\n",
       "      <th>2022-10</th>\n",
       "      <td>114.23</td>\n",
       "      <td>880760.8</td>\n",
       "      <td>6.47</td>\n",
       "      <td>0.12</td>\n",
       "    </tr>\n",
       "    <tr>\n",
       "      <th>2022-11</th>\n",
       "      <td>116.79</td>\n",
       "      <td>880651.2</td>\n",
       "      <td>5.90</td>\n",
       "      <td>0.36</td>\n",
       "    </tr>\n",
       "    <tr>\n",
       "      <th>2022-12</th>\n",
       "      <td>122.84</td>\n",
       "      <td>880073.2</td>\n",
       "      <td>5.79</td>\n",
       "      <td>0.09</td>\n",
       "    </tr>\n",
       "  </tbody>\n",
       "</table>\n",
       "<p>96 rows × 4 columns</p>\n",
       "</div>"
      ],
      "text/plain": [
       "         CONFIANCA       PIB  IPCA  INCC\n",
       "Date                                    \n",
       "2015-01     112.69  474390.0  7.14  0.92\n",
       "2015-02     112.89  466745.0  7.70  0.31\n",
       "2015-03     106.86  515523.6  8.13  0.62\n",
       "2015-04     101.56  497109.5  8.17  0.46\n",
       "2015-05      91.77  492308.4  8.47  0.95\n",
       "...            ...       ...   ...   ...\n",
       "2022-08     106.76  873772.7  8.73  0.09\n",
       "2022-09     111.46  857918.0  7.17  0.09\n",
       "2022-10     114.23  880760.8  6.47  0.12\n",
       "2022-11     116.79  880651.2  5.90  0.36\n",
       "2022-12     122.84  880073.2  5.79  0.09\n",
       "\n",
       "[96 rows x 4 columns]"
      ]
     },
     "execution_count": 43,
     "metadata": {},
     "output_type": "execute_result"
    }
   ],
   "source": [
    "macros_96 = pd.concat([confianca_consumidor2, pib2, ipca2, incc2], axis=1)\n",
    "macros_96"
   ]
  },
  {
   "cell_type": "code",
   "execution_count": 45,
   "metadata": {},
   "outputs": [
    {
     "data": {
      "text/html": [
       "<div>\n",
       "<style scoped>\n",
       "    .dataframe tbody tr th:only-of-type {\n",
       "        vertical-align: middle;\n",
       "    }\n",
       "\n",
       "    .dataframe tbody tr th {\n",
       "        vertical-align: top;\n",
       "    }\n",
       "\n",
       "    .dataframe thead th {\n",
       "        text-align: right;\n",
       "    }\n",
       "</style>\n",
       "<table border=\"1\" class=\"dataframe\">\n",
       "  <thead>\n",
       "    <tr style=\"text-align: right;\">\n",
       "      <th></th>\n",
       "      <th>CONFIANCA</th>\n",
       "      <th>PIB</th>\n",
       "      <th>IPCA</th>\n",
       "      <th>INCC</th>\n",
       "    </tr>\n",
       "  </thead>\n",
       "  <tbody>\n",
       "    <tr>\n",
       "      <th>CONFIANCA</th>\n",
       "      <td>1.000000</td>\n",
       "      <td>0.332602</td>\n",
       "      <td>-0.452705</td>\n",
       "      <td>-0.157292</td>\n",
       "    </tr>\n",
       "    <tr>\n",
       "      <th>PIB</th>\n",
       "      <td>0.332602</td>\n",
       "      <td>1.000000</td>\n",
       "      <td>0.232980</td>\n",
       "      <td>0.266987</td>\n",
       "    </tr>\n",
       "    <tr>\n",
       "      <th>IPCA</th>\n",
       "      <td>-0.452705</td>\n",
       "      <td>0.232980</td>\n",
       "      <td>1.000000</td>\n",
       "      <td>0.289942</td>\n",
       "    </tr>\n",
       "    <tr>\n",
       "      <th>INCC</th>\n",
       "      <td>-0.157292</td>\n",
       "      <td>0.266987</td>\n",
       "      <td>0.289942</td>\n",
       "      <td>1.000000</td>\n",
       "    </tr>\n",
       "  </tbody>\n",
       "</table>\n",
       "</div>"
      ],
      "text/plain": [
       "           CONFIANCA       PIB      IPCA      INCC\n",
       "CONFIANCA   1.000000  0.332602 -0.452705 -0.157292\n",
       "PIB         0.332602  1.000000  0.232980  0.266987\n",
       "IPCA       -0.452705  0.232980  1.000000  0.289942\n",
       "INCC       -0.157292  0.266987  0.289942  1.000000"
      ]
     },
     "execution_count": 45,
     "metadata": {},
     "output_type": "execute_result"
    }
   ],
   "source": [
    "# Criar uma matriz de correlação\n",
    "\n",
    "corr_macros = macros_96.corr()\n",
    "corr_macros"
   ]
  },
  {
   "cell_type": "code",
   "execution_count": 50,
   "metadata": {},
   "outputs": [
    {
     "data": {
      "image/png": "[encoded data removed]",
      "text/plain": [
       "<Figure size 640x480 with 2 Axes>"
      ]
     },
     "metadata": {},
     "output_type": "display_data"
    }
   ],
   "source": [
    "# Criar um heatmap (mapa de calor)\n",
    "\n",
    "lista_macros = macros_96.columns\n",
    "\n",
    "sns.heatmap(corr_macros, cmap= \"coolwarm\",\n",
    "            center=0,\n",
    "            annot=True,\n",
    "            fmt='.1g',\n",
    "            xticklabels=lista_macros,\n",
    "            yticklabels=lista_macros);"
   ]
  },
  {
   "cell_type": "code",
   "execution_count": null,
   "metadata": {},
   "outputs": [],
   "source": []
  }
 ],
 "metadata": {
  "kernelspec": {
   "display_name": "Python 3",
   "language": "python",
   "name": "python3"
  },
  "language_info": {
   "codemirror_mode": {
    "name": "ipython",
    "version": 3
   },
   "file_extension": ".py",
   "mimetype": "text/x-python",
   "name": "python",
   "nbconvert_exporter": "python",
   "pygments_lexer": "ipython3",
   "version": "3.11.5"
  }
 },
 "nbformat": 4,
 "nbformat_minor": 2
}

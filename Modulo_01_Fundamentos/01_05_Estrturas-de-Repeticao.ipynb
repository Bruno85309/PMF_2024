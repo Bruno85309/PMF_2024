{
 "cells": [
  {
   "cell_type": "markdown",
   "metadata": {},
   "source": [
    "# 10. Estruturas de repetição\n",
    "---"
   ]
  },
  {
   "cell_type": "markdown",
   "metadata": {},
   "source": [
    "# 10.1. For"
   ]
  },
  {
   "cell_type": "markdown",
   "metadata": {},
   "source": [
    "**Loop**\n",
    "\n",
    "\n",
    "para cada elemento em algo:\n",
    ">    imprima(elemento)"
   ]
  },
  {
   "cell_type": "code",
   "execution_count": 25,
   "metadata": {},
   "outputs": [
    {
     "name": "stdout",
     "output_type": "stream",
     "text": [
      "1\n",
      "2\n",
      "3\n"
     ]
    }
   ],
   "source": [
    "lista = [1, 2, 3 ]\n",
    "for elemento in lista:\n",
    "    print(elemento)"
   ]
  },
  {
   "cell_type": "code",
   "execution_count": 35,
   "metadata": {},
   "outputs": [],
   "source": [
    "acoes = ['BPAN4', 'BBSE3', 'BRFS3', 'ECOR3', 'ENGI11', 'RAIL3', 'SULA11', 'VALE3', 'WEGE3', 'SUZB3']"
   ]
  },
  {
   "cell_type": "code",
   "execution_count": 36,
   "metadata": {},
   "outputs": [
    {
     "name": "stdout",
     "output_type": "stream",
     "text": [
      "BPAN4\n",
      "BBSE3\n",
      "BRFS3\n",
      "ECOR3\n",
      "ENGI11\n",
      "RAIL3\n",
      "SULA11\n",
      "VALE3\n",
      "WEGE3\n",
      "SUZB3\n"
     ]
    }
   ],
   "source": [
    "for i in acoes:\n",
    "    print(i)"
   ]
  },
  {
   "cell_type": "markdown",
   "metadata": {},
   "source": [
    "Nós podemos utilizar qualquer variável dentro do nosso loop desde que a lista onde o loop está iterando seja mantida."
   ]
  },
  {
   "cell_type": "code",
   "execution_count": 37,
   "metadata": {},
   "outputs": [
    {
     "name": "stdout",
     "output_type": "stream",
     "text": [
      "BPAN4.SA\n",
      "BBSE3.SA\n",
      "BRFS3.SA\n",
      "ECOR3.SA\n",
      "ENGI11.SA\n",
      "RAIL3.SA\n",
      "SULA11.SA\n",
      "VALE3.SA\n",
      "WEGE3.SA\n",
      "SUZB3.SA\n"
     ]
    }
   ],
   "source": [
    "# 1. Coloque '.SA' no final do ticker de cada papel acima\n",
    "\n",
    "for i in acoes:\n",
    "    print(i + '.SA')"
   ]
  },
  {
   "cell_type": "markdown",
   "metadata": {},
   "source": [
    "* Display()\n",
    "\n",
    "Função que apresenta o resultado como ele é, exibindo o elemento"
   ]
  },
  {
   "cell_type": "code",
   "execution_count": 38,
   "metadata": {},
   "outputs": [
    {
     "data": {
      "text/plain": [
       "'BPAN4.SA'"
      ]
     },
     "metadata": {},
     "output_type": "display_data"
    },
    {
     "data": {
      "text/plain": [
       "'BBSE3.SA'"
      ]
     },
     "metadata": {},
     "output_type": "display_data"
    },
    {
     "data": {
      "text/plain": [
       "'BRFS3.SA'"
      ]
     },
     "metadata": {},
     "output_type": "display_data"
    },
    {
     "data": {
      "text/plain": [
       "'ECOR3.SA'"
      ]
     },
     "metadata": {},
     "output_type": "display_data"
    },
    {
     "data": {
      "text/plain": [
       "'ENGI11.SA'"
      ]
     },
     "metadata": {},
     "output_type": "display_data"
    },
    {
     "data": {
      "text/plain": [
       "'RAIL3.SA'"
      ]
     },
     "metadata": {},
     "output_type": "display_data"
    },
    {
     "data": {
      "text/plain": [
       "'SULA11.SA'"
      ]
     },
     "metadata": {},
     "output_type": "display_data"
    },
    {
     "data": {
      "text/plain": [
       "'VALE3.SA'"
      ]
     },
     "metadata": {},
     "output_type": "display_data"
    },
    {
     "data": {
      "text/plain": [
       "'WEGE3.SA'"
      ]
     },
     "metadata": {},
     "output_type": "display_data"
    },
    {
     "data": {
      "text/plain": [
       "'SUZB3.SA'"
      ]
     },
     "metadata": {},
     "output_type": "display_data"
    }
   ],
   "source": [
    "for i in acoes:\n",
    "    display(i + '.SA')"
   ]
  },
  {
   "cell_type": "code",
   "execution_count": 39,
   "metadata": {},
   "outputs": [
    {
     "name": "stdout",
     "output_type": "stream",
     "text": [
      "['BPAN4.SA', 'BBSE3.SA', 'BRFS3.SA', 'ECOR3.SA', 'ENGI11.SA', 'RAIL3.SA', 'SULA11.SA', 'VALE3.SA', 'WEGE3.SA', 'SUZB3.SA']\n"
     ]
    }
   ],
   "source": [
    "# 2. Crie uma novas lista que recebe o ticker das ações modificadas, contendo o .SA no final. \n",
    "acoes_ajustadas = []\n",
    "\n",
    "for i in acoes:\n",
    "     acoes_ajustadas.append(i + '.SA')\n",
    "\n",
    "print(acoes_ajustadas)"
   ]
  },
  {
   "cell_type": "code",
   "execution_count": 40,
   "metadata": {},
   "outputs": [],
   "source": [
    "# 3. Adicionar mensagem\n",
    "\n",
    "mensagem = 'é um papel do IBOV'"
   ]
  },
  {
   "cell_type": "code",
   "execution_count": 41,
   "metadata": {},
   "outputs": [
    {
     "name": "stdout",
     "output_type": "stream",
     "text": [
      "BPAN4 é um papel do IBOV\n",
      "BBSE3 é um papel do IBOV\n",
      "BRFS3 é um papel do IBOV\n",
      "ECOR3 é um papel do IBOV\n",
      "ENGI11 é um papel do IBOV\n",
      "RAIL3 é um papel do IBOV\n",
      "SULA11 é um papel do IBOV\n",
      "VALE3 é um papel do IBOV\n",
      "WEGE3 é um papel do IBOV\n",
      "SUZB3 é um papel do IBOV\n"
     ]
    }
   ],
   "source": [
    "for i in acoes:\n",
    "    print(i, mensagem)"
   ]
  },
  {
   "cell_type": "markdown",
   "metadata": {},
   "source": [
    "**Break**\n",
    "\n",
    "Função break é usada para interromper o loop assim que a condição for satisfeita."
   ]
  },
  {
   "cell_type": "code",
   "execution_count": 44,
   "metadata": {},
   "outputs": [],
   "source": [
    "# 4.Adicione elementos que não estão no IBOV e crie um for com break para pausar \n",
    "\n",
    "acoes.extend(['HTCR11', 'IVVB11', 'COCA34'])"
   ]
  },
  {
   "cell_type": "code",
   "execution_count": 45,
   "metadata": {},
   "outputs": [
    {
     "data": {
      "text/plain": [
       "['BPAN4',\n",
       " 'BBSE3',\n",
       " 'BRFS3',\n",
       " 'ECOR3',\n",
       " 'ENGI11',\n",
       " 'RAIL3',\n",
       " 'SULA11',\n",
       " 'VALE3',\n",
       " 'WEGE3',\n",
       " 'SUZB3',\n",
       " 'HTCR11',\n",
       " 'IVVB11',\n",
       " 'COCA34',\n",
       " 'HTCR11',\n",
       " 'IVVB11',\n",
       " 'COCA34']"
      ]
     },
     "execution_count": 45,
     "metadata": {},
     "output_type": "execute_result"
    }
   ],
   "source": [
    "acoes"
   ]
  },
  {
   "cell_type": "code",
   "execution_count": 48,
   "metadata": {},
   "outputs": [
    {
     "name": "stdout",
     "output_type": "stream",
     "text": [
      "BPAN4 é um papel do IBOV\n",
      "BBSE3 é um papel do IBOV\n",
      "BRFS3 é um papel do IBOV\n",
      "ECOR3 é um papel do IBOV\n",
      "ENGI11 é um papel do IBOV\n",
      "RAIL3 é um papel do IBOV\n",
      "SULA11 é um papel do IBOV\n",
      "VALE3 é um papel do IBOV\n",
      "WEGE3 é um papel do IBOV\n",
      "SUZB3 é um papel do IBOV\n"
     ]
    }
   ],
   "source": [
    "for i in acoes:\n",
    "    print(i, mensagem)\n",
    "    if i == 'SUZB3':\n",
    "        break"
   ]
  },
  {
   "cell_type": "markdown",
   "metadata": {},
   "source": [
    "* Usando dicionários"
   ]
  },
  {
   "cell_type": "code",
   "execution_count": 49,
   "metadata": {},
   "outputs": [],
   "source": [
    "precos = {'PETR4': 30,\n",
    "          'VALE3': 102,\n",
    "          'WEGE3': 34}"
   ]
  },
  {
   "cell_type": "code",
   "execution_count": 50,
   "metadata": {},
   "outputs": [
    {
     "data": {
      "text/plain": [
       "dict_keys(['PETR4', 'VALE3', 'WEGE3'])"
      ]
     },
     "execution_count": 50,
     "metadata": {},
     "output_type": "execute_result"
    }
   ],
   "source": [
    "precos.keys()"
   ]
  },
  {
   "cell_type": "code",
   "execution_count": 51,
   "metadata": {},
   "outputs": [
    {
     "data": {
      "text/plain": [
       "dict_values([30, 102, 34])"
      ]
     },
     "execution_count": 51,
     "metadata": {},
     "output_type": "execute_result"
    }
   ],
   "source": [
    "precos.values()"
   ]
  },
  {
   "cell_type": "code",
   "execution_count": 54,
   "metadata": {},
   "outputs": [
    {
     "data": {
      "text/plain": [
       "'WEGE3'"
      ]
     },
     "execution_count": 54,
     "metadata": {},
     "output_type": "execute_result"
    }
   ],
   "source": [
    "# Procure WEGE3\n",
    "\n",
    "list(precos.keys())[2]"
   ]
  },
  {
   "cell_type": "code",
   "execution_count": 82,
   "metadata": {},
   "outputs": [
    {
     "name": "stdout",
     "output_type": "stream",
     "text": [
      "A ação PETR4 está com o preço de 30 neste momento.\n",
      "A ação VALE3 está com o preço de 102 neste momento.\n",
      "A ação WEGE3 está com o preço de 34 neste momento.\n"
     ]
    }
   ],
   "source": [
    "# 5.  Cria loop com a frase \"A ação XXXX está o preço de YY,YY neste momento\"\n",
    "# Exexmplo abaixo só que com for\n",
    "\n",
    "print(f'A ação {list(precos.keys())[0]} está com o preço de {list(precos.values())[0]} neste momento.')\n",
    "print(f'A ação {list(precos.keys())[1]} está com o preço de {list(precos.values())[1]} neste momento.')\n",
    "print(f'A ação {list(precos.keys())[2]} está com o preço de {list(precos.values())[2]} neste momento.')"
   ]
  },
  {
   "cell_type": "markdown",
   "metadata": {},
   "source": [
    "* Range() é para obter os elementos contidos em um intervalo"
   ]
  },
  {
   "cell_type": "code",
   "execution_count": 83,
   "metadata": {},
   "outputs": [
    {
     "data": {
      "text/plain": [
       "range(0, 3)"
      ]
     },
     "execution_count": 83,
     "metadata": {},
     "output_type": "execute_result"
    }
   ],
   "source": [
    "range(0, len(precos))"
   ]
  },
  {
   "cell_type": "code",
   "execution_count": 84,
   "metadata": {},
   "outputs": [
    {
     "data": {
      "text/plain": [
       "[0, 1, 2]"
      ]
     },
     "execution_count": 84,
     "metadata": {},
     "output_type": "execute_result"
    }
   ],
   "source": [
    "list(range(0, len(precos)))"
   ]
  },
  {
   "cell_type": "code",
   "execution_count": 85,
   "metadata": {},
   "outputs": [
    {
     "name": "stdout",
     "output_type": "stream",
     "text": [
      "0\n",
      "1\n",
      "2\n"
     ]
    }
   ],
   "source": [
    "for i in range(0, len(precos)):\n",
    "    print(i)"
   ]
  },
  {
   "cell_type": "code",
   "execution_count": 86,
   "metadata": {},
   "outputs": [
    {
     "name": "stdout",
     "output_type": "stream",
     "text": [
      "A ação PETR4 está com o preço de 30 neste momento.\n",
      "A ação VALE3 está com o preço de 102 neste momento.\n",
      "A ação WEGE3 está com o preço de 34 neste momento.\n"
     ]
    }
   ],
   "source": [
    "for i in range(0, len(precos)):\n",
    "    print(f'A ação {list(precos.keys())[i]} está com o preço de {list(precos.values())[i]} neste momento.')"
   ]
  },
  {
   "cell_type": "code",
   "execution_count": null,
   "metadata": {},
   "outputs": [],
   "source": []
  }
 ],
 "metadata": {
  "kernelspec": {
   "display_name": "Python 3",
   "language": "python",
   "name": "python3"
  },
  "language_info": {
   "codemirror_mode": {
    "name": "ipython",
    "version": 3
   },
   "file_extension": ".py",
   "mimetype": "text/x-python",
   "name": "python",
   "nbconvert_exporter": "python",
   "pygments_lexer": "ipython3",
   "version": "3.11.5"
  }
 },
 "nbformat": 4,
 "nbformat_minor": 2
}

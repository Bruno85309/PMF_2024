{
 "cells": [
  {
   "cell_type": "markdown",
   "metadata": {},
   "source": [
    "# 10. Estruturas de repetição\n",
    "---"
   ]
  },
  {
   "cell_type": "markdown",
   "metadata": {},
   "source": [
    "## 10.1. For"
   ]
  },
  {
   "cell_type": "markdown",
   "metadata": {},
   "source": [
    "**Loop**\n",
    "\n",
    "\n",
    "para cada elemento em algo:\n",
    ">    imprima(elemento)"
   ]
  },
  {
   "cell_type": "code",
   "execution_count": 25,
   "metadata": {},
   "outputs": [
    {
     "name": "stdout",
     "output_type": "stream",
     "text": [
      "1\n",
      "2\n",
      "3\n"
     ]
    }
   ],
   "source": [
    "lista = [1, 2, 3]\n",
    "for elemento in lista:\n",
    "    print(elemento)"
   ]
  },
  {
   "cell_type": "code",
   "execution_count": 35,
   "metadata": {},
   "outputs": [],
   "source": [
    "acoes = ['BPAN4', 'BBSE3', 'BRFS3', 'ECOR3', 'ENGI11', 'RAIL3', 'SULA11', 'VALE3', 'WEGE3', 'SUZB3']"
   ]
  },
  {
   "cell_type": "code",
   "execution_count": 36,
   "metadata": {},
   "outputs": [
    {
     "name": "stdout",
     "output_type": "stream",
     "text": [
      "BPAN4\n",
      "BBSE3\n",
      "BRFS3\n",
      "ECOR3\n",
      "ENGI11\n",
      "RAIL3\n",
      "SULA11\n",
      "VALE3\n",
      "WEGE3\n",
      "SUZB3\n"
     ]
    }
   ],
   "source": [
    "for i in acoes:\n",
    "    print(i)"
   ]
  },
  {
   "cell_type": "markdown",
   "metadata": {},
   "source": [
    "Nós podemos utilizar qualquer variável dentro do nosso loop desde que a lista onde o loop está iterando seja mantida."
   ]
  },
  {
   "cell_type": "code",
   "execution_count": 37,
   "metadata": {},
   "outputs": [
    {
     "name": "stdout",
     "output_type": "stream",
     "text": [
      "BPAN4.SA\n",
      "BBSE3.SA\n",
      "BRFS3.SA\n",
      "ECOR3.SA\n",
      "ENGI11.SA\n",
      "RAIL3.SA\n",
      "SULA11.SA\n",
      "VALE3.SA\n",
      "WEGE3.SA\n",
      "SUZB3.SA\n"
     ]
    }
   ],
   "source": [
    "# 1. Coloque '.SA' no final do ticker de cada papel acima\n",
    "\n",
    "for i in acoes:\n",
    "    print(i + '.SA')"
   ]
  },
  {
   "cell_type": "markdown",
   "metadata": {},
   "source": [
    "* Display()\n",
    "\n",
    "Função que apresenta o resultado como ele é, exibindo o elemento"
   ]
  },
  {
   "cell_type": "code",
   "execution_count": 38,
   "metadata": {},
   "outputs": [
    {
     "data": {
      "text/plain": [
       "'BPAN4.SA'"
      ]
     },
     "metadata": {},
     "output_type": "display_data"
    },
    {
     "data": {
      "text/plain": [
       "'BBSE3.SA'"
      ]
     },
     "metadata": {},
     "output_type": "display_data"
    },
    {
     "data": {
      "text/plain": [
       "'BRFS3.SA'"
      ]
     },
     "metadata": {},
     "output_type": "display_data"
    },
    {
     "data": {
      "text/plain": [
       "'ECOR3.SA'"
      ]
     },
     "metadata": {},
     "output_type": "display_data"
    },
    {
     "data": {
      "text/plain": [
       "'ENGI11.SA'"
      ]
     },
     "metadata": {},
     "output_type": "display_data"
    },
    {
     "data": {
      "text/plain": [
       "'RAIL3.SA'"
      ]
     },
     "metadata": {},
     "output_type": "display_data"
    },
    {
     "data": {
      "text/plain": [
       "'SULA11.SA'"
      ]
     },
     "metadata": {},
     "output_type": "display_data"
    },
    {
     "data": {
      "text/plain": [
       "'VALE3.SA'"
      ]
     },
     "metadata": {},
     "output_type": "display_data"
    },
    {
     "data": {
      "text/plain": [
       "'WEGE3.SA'"
      ]
     },
     "metadata": {},
     "output_type": "display_data"
    },
    {
     "data": {
      "text/plain": [
       "'SUZB3.SA'"
      ]
     },
     "metadata": {},
     "output_type": "display_data"
    }
   ],
   "source": [
    "for i in acoes:\n",
    "    display(i + '.SA')"
   ]
  },
  {
   "cell_type": "code",
   "execution_count": 39,
   "metadata": {},
   "outputs": [
    {
     "name": "stdout",
     "output_type": "stream",
     "text": [
      "['BPAN4.SA', 'BBSE3.SA', 'BRFS3.SA', 'ECOR3.SA', 'ENGI11.SA', 'RAIL3.SA', 'SULA11.SA', 'VALE3.SA', 'WEGE3.SA', 'SUZB3.SA']\n"
     ]
    }
   ],
   "source": [
    "# 2. Crie uma novas lista que recebe o ticker das ações modificadas, contendo o .SA no final. \n",
    "acoes_ajustadas = []\n",
    "\n",
    "for i in acoes:\n",
    "     acoes_ajustadas.append(i + '.SA')\n",
    "\n",
    "print(acoes_ajustadas)"
   ]
  },
  {
   "cell_type": "code",
   "execution_count": 40,
   "metadata": {},
   "outputs": [],
   "source": [
    "# 3. Adicionar mensagem\n",
    "\n",
    "mensagem = 'é um papel do IBOV'"
   ]
  },
  {
   "cell_type": "code",
   "execution_count": 41,
   "metadata": {},
   "outputs": [
    {
     "name": "stdout",
     "output_type": "stream",
     "text": [
      "BPAN4 é um papel do IBOV\n",
      "BBSE3 é um papel do IBOV\n",
      "BRFS3 é um papel do IBOV\n",
      "ECOR3 é um papel do IBOV\n",
      "ENGI11 é um papel do IBOV\n",
      "RAIL3 é um papel do IBOV\n",
      "SULA11 é um papel do IBOV\n",
      "VALE3 é um papel do IBOV\n",
      "WEGE3 é um papel do IBOV\n",
      "SUZB3 é um papel do IBOV\n"
     ]
    }
   ],
   "source": [
    "for i in acoes:\n",
    "    print(i, mensagem)"
   ]
  },
  {
   "cell_type": "markdown",
   "metadata": {},
   "source": [
    "**Break**\n",
    "\n",
    "Função break é usada para interromper o loop assim que a condição for satisfeita."
   ]
  },
  {
   "cell_type": "code",
   "execution_count": 44,
   "metadata": {},
   "outputs": [],
   "source": [
    "# 4.Adicione elementos que não estão no IBOV e crie um for com break para pausar \n",
    "\n",
    "acoes.extend(['HTCR11', 'IVVB11', 'COCA34'])"
   ]
  },
  {
   "cell_type": "code",
   "execution_count": 45,
   "metadata": {},
   "outputs": [
    {
     "data": {
      "text/plain": [
       "['BPAN4',\n",
       " 'BBSE3',\n",
       " 'BRFS3',\n",
       " 'ECOR3',\n",
       " 'ENGI11',\n",
       " 'RAIL3',\n",
       " 'SULA11',\n",
       " 'VALE3',\n",
       " 'WEGE3',\n",
       " 'SUZB3',\n",
       " 'HTCR11',\n",
       " 'IVVB11',\n",
       " 'COCA34',\n",
       " 'HTCR11',\n",
       " 'IVVB11',\n",
       " 'COCA34']"
      ]
     },
     "execution_count": 45,
     "metadata": {},
     "output_type": "execute_result"
    }
   ],
   "source": [
    "acoes"
   ]
  },
  {
   "cell_type": "code",
   "execution_count": 48,
   "metadata": {},
   "outputs": [
    {
     "name": "stdout",
     "output_type": "stream",
     "text": [
      "BPAN4 é um papel do IBOV\n",
      "BBSE3 é um papel do IBOV\n",
      "BRFS3 é um papel do IBOV\n",
      "ECOR3 é um papel do IBOV\n",
      "ENGI11 é um papel do IBOV\n",
      "RAIL3 é um papel do IBOV\n",
      "SULA11 é um papel do IBOV\n",
      "VALE3 é um papel do IBOV\n",
      "WEGE3 é um papel do IBOV\n",
      "SUZB3 é um papel do IBOV\n"
     ]
    }
   ],
   "source": [
    "for i in acoes:\n",
    "    print(i, mensagem)\n",
    "    if i == 'SUZB3':\n",
    "        break"
   ]
  },
  {
   "cell_type": "markdown",
   "metadata": {},
   "source": [
    "* Usando dicionários"
   ]
  },
  {
   "cell_type": "code",
   "execution_count": 49,
   "metadata": {},
   "outputs": [],
   "source": [
    "precos = {'PETR4': 30,\n",
    "          'VALE3': 102,\n",
    "          'WEGE3': 34}"
   ]
  },
  {
   "cell_type": "code",
   "execution_count": 50,
   "metadata": {},
   "outputs": [
    {
     "data": {
      "text/plain": [
       "dict_keys(['PETR4', 'VALE3', 'WEGE3'])"
      ]
     },
     "execution_count": 50,
     "metadata": {},
     "output_type": "execute_result"
    }
   ],
   "source": [
    "precos.keys()"
   ]
  },
  {
   "cell_type": "code",
   "execution_count": 51,
   "metadata": {},
   "outputs": [
    {
     "data": {
      "text/plain": [
       "dict_values([30, 102, 34])"
      ]
     },
     "execution_count": 51,
     "metadata": {},
     "output_type": "execute_result"
    }
   ],
   "source": [
    "precos.values()"
   ]
  },
  {
   "cell_type": "code",
   "execution_count": 54,
   "metadata": {},
   "outputs": [
    {
     "data": {
      "text/plain": [
       "'WEGE3'"
      ]
     },
     "execution_count": 54,
     "metadata": {},
     "output_type": "execute_result"
    }
   ],
   "source": [
    "# Procure WEGE3\n",
    "\n",
    "list(precos.keys())[2]"
   ]
  },
  {
   "cell_type": "code",
   "execution_count": 82,
   "metadata": {},
   "outputs": [
    {
     "name": "stdout",
     "output_type": "stream",
     "text": [
      "A ação PETR4 está com o preço de 30 neste momento.\n",
      "A ação VALE3 está com o preço de 102 neste momento.\n",
      "A ação WEGE3 está com o preço de 34 neste momento.\n"
     ]
    }
   ],
   "source": [
    "# 5.  Cria loop com a frase \"A ação XXXX está o preço de YY,YY neste momento\"\n",
    "# Exexmplo abaixo só que com for\n",
    "\n",
    "print(f'A ação {list(precos.keys())[0]} está com o preço de {list(precos.values())[0]} neste momento.')\n",
    "print(f'A ação {list(precos.keys())[1]} está com o preço de {list(precos.values())[1]} neste momento.')\n",
    "print(f'A ação {list(precos.keys())[2]} está com o preço de {list(precos.values())[2]} neste momento.')"
   ]
  },
  {
   "cell_type": "markdown",
   "metadata": {},
   "source": [
    "* Range() é para obter os elementos contidos em um intervalo"
   ]
  },
  {
   "cell_type": "code",
   "execution_count": 83,
   "metadata": {},
   "outputs": [
    {
     "data": {
      "text/plain": [
       "range(0, 3)"
      ]
     },
     "execution_count": 83,
     "metadata": {},
     "output_type": "execute_result"
    }
   ],
   "source": [
    "range(0, len(precos))"
   ]
  },
  {
   "cell_type": "code",
   "execution_count": 84,
   "metadata": {},
   "outputs": [
    {
     "data": {
      "text/plain": [
       "[0, 1, 2]"
      ]
     },
     "execution_count": 84,
     "metadata": {},
     "output_type": "execute_result"
    }
   ],
   "source": [
    "list(range(0, len(precos)))"
   ]
  },
  {
   "cell_type": "code",
   "execution_count": 85,
   "metadata": {},
   "outputs": [
    {
     "name": "stdout",
     "output_type": "stream",
     "text": [
      "0\n",
      "1\n",
      "2\n"
     ]
    }
   ],
   "source": [
    "for i in range(0, len(precos)):\n",
    "    print(i)"
   ]
  },
  {
   "cell_type": "code",
   "execution_count": 86,
   "metadata": {},
   "outputs": [
    {
     "name": "stdout",
     "output_type": "stream",
     "text": [
      "A ação PETR4 está com o preço de 30 neste momento.\n",
      "A ação VALE3 está com o preço de 102 neste momento.\n",
      "A ação WEGE3 está com o preço de 34 neste momento.\n"
     ]
    }
   ],
   "source": [
    "for i in range(0, len(precos)):\n",
    "    print(f'A ação {list(precos.keys())[i]} está com o preço de {list(precos.values())[i]} neste momento.')"
   ]
  },
  {
   "cell_type": "markdown",
   "metadata": {},
   "source": [
    "## 10.2. While"
   ]
  },
  {
   "cell_type": "markdown",
   "metadata": {},
   "source": [
    "A estrutura do while se refere a outra repetição (loop) que ocorrerá enquanto a condição for verdadeira. Poderia ser pensada de uma maneira análoga ao uso do 'for' e 'if' integrados."
   ]
  },
  {
   "cell_type": "code",
   "execution_count": 6,
   "metadata": {},
   "outputs": [],
   "source": [
    "preco_vale = 70"
   ]
  },
  {
   "cell_type": "code",
   "execution_count": 7,
   "metadata": {},
   "outputs": [
    {
     "name": "stdout",
     "output_type": "stream",
     "text": [
      "Ainda não atingiu o preço ideal para venda. Espere! O preço atual é: 70\n",
      "Ainda não atingiu o preço ideal para venda. Espere! O preço atual é: 70.7\n",
      "Ainda não atingiu o preço ideal para venda. Espere! O preço atual é: 71.41\n",
      "Ainda não atingiu o preço ideal para venda. Espere! O preço atual é: 72.12\n",
      "Ainda não atingiu o preço ideal para venda. Espere! O preço atual é: 72.84\n",
      "Ainda não atingiu o preço ideal para venda. Espere! O preço atual é: 73.57\n",
      "Ainda não atingiu o preço ideal para venda. Espere! O preço atual é: 74.31\n",
      "Ainda não atingiu o preço ideal para venda. Espere! O preço atual é: 75.05\n",
      "Ainda não atingiu o preço ideal para venda. Espere! O preço atual é: 75.8\n",
      "Ainda não atingiu o preço ideal para venda. Espere! O preço atual é: 76.56\n",
      "Ainda não atingiu o preço ideal para venda. Espere! O preço atual é: 77.32\n",
      "Ainda não atingiu o preço ideal para venda. Espere! O preço atual é: 78.1\n",
      "Ainda não atingiu o preço ideal para venda. Espere! O preço atual é: 78.88\n",
      "Ainda não atingiu o preço ideal para venda. Espere! O preço atual é: 79.67\n",
      "Ainda não atingiu o preço ideal para venda. Espere! O preço atual é: 80.46\n",
      "Ainda não atingiu o preço ideal para venda. Espere! O preço atual é: 81.27\n",
      "Ainda não atingiu o preço ideal para venda. Espere! O preço atual é: 82.08\n",
      "Ainda não atingiu o preço ideal para venda. Espere! O preço atual é: 82.9\n",
      "Ainda não atingiu o preço ideal para venda. Espere! O preço atual é: 83.73\n",
      "Ainda não atingiu o preço ideal para venda. Espere! O preço atual é: 84.57\n",
      "Ainda não atingiu o preço ideal para venda. Espere! O preço atual é: 85.41\n",
      "Ainda não atingiu o preço ideal para venda. Espere! O preço atual é: 86.27\n",
      "Ainda não atingiu o preço ideal para venda. Espere! O preço atual é: 87.13\n",
      "Ainda não atingiu o preço ideal para venda. Espere! O preço atual é: 88.0\n",
      "Ainda não atingiu o preço ideal para venda. Espere! O preço atual é: 88.88\n",
      "Ainda não atingiu o preço ideal para venda. Espere! O preço atual é: 89.77\n",
      "Ainda não atingiu o preço ideal para venda. Espere! O preço atual é: 90.67\n",
      "Ainda não atingiu o preço ideal para venda. Espere! O preço atual é: 91.57\n",
      "Ainda não atingiu o preço ideal para venda. Espere! O preço atual é: 92.49\n",
      "Ainda não atingiu o preço ideal para venda. Espere! O preço atual é: 93.42\n",
      "Ainda não atingiu o preço ideal para venda. Espere! O preço atual é: 94.35\n",
      "Ainda não atingiu o preço ideal para venda. Espere! O preço atual é: 95.29\n",
      "Ainda não atingiu o preço ideal para venda. Espere! O preço atual é: 96.25\n",
      "Ainda não atingiu o preço ideal para venda. Espere! O preço atual é: 97.21\n",
      "Ainda não atingiu o preço ideal para venda. Espere! O preço atual é: 98.18\n",
      "Ainda não atingiu o preço ideal para venda. Espere! O preço atual é: 99.16\n",
      "Preço-alvo foi atingido. Hora de vender! 100.15\n"
     ]
    }
   ],
   "source": [
    "while preco_vale < 100:\n",
    "    print('Ainda não atingiu o preço ideal para venda. Espere! O preço atual é:', round(preco_vale, 2))\n",
    "    preco_vale = preco_vale * 1.01\n",
    "\n",
    "else:\n",
    "    print('Preço-alvo foi atingido. Hora de vender!', round(preco_vale, 2))"
   ]
  },
  {
   "cell_type": "code",
   "execution_count": 13,
   "metadata": {},
   "outputs": [
    {
     "data": {
      "text/plain": [
       "''"
      ]
     },
     "execution_count": 13,
     "metadata": {},
     "output_type": "execute_result"
    }
   ],
   "source": [
    "investimento = input('Selecione uma ação')\n",
    "investimento"
   ]
  },
  {
   "cell_type": "markdown",
   "metadata": {},
   "source": [
    "* Todo resultado de input() será uma str"
   ]
  },
  {
   "cell_type": "markdown",
   "metadata": {},
   "source": [
    "Exercício:\n",
    "\n",
    "Outro exemplo de uso de while. Imagine que tem disponível 15000 reais para investir. A cada operação será computado o valor alocado nesta operação (chamaremos de 'investimento_unitario') e o total de investimento ('investimento total')\n",
    "\n",
    "A função input interage com o usuário , recebendo um objeto (numérico, str,...) e armazena em uma variável."
   ]
  },
  {
   "cell_type": "code",
   "execution_count": 15,
   "metadata": {},
   "outputs": [],
   "source": [
    "investimento_unitario = 0\n",
    "investimento_total = 0"
   ]
  },
  {
   "cell_type": "markdown",
   "metadata": {},
   "source": [
    "Enquanto o valor locado for menor do que 15000 a condição while será executada. Quando essa condição não for mais verdadeira (no caso investimento_total >= 15000), execute o ue foi determinado no else."
   ]
  },
  {
   "cell_type": "code",
   "execution_count": 16,
   "metadata": {},
   "outputs": [
    {
     "name": "stdout",
     "output_type": "stream",
     "text": [
      "Você atingiu sua cota máxima.\n",
      "Você exedeu R$ 2000 do valor previsto\n"
     ]
    }
   ],
   "source": [
    "while investimento_total < 15000:\n",
    "    investimento_unitario = int(input('Digite o valor do seu investimento: '))\n",
    "    investimento_total += investimento_unitario\n",
    "\n",
    "else:\n",
    "    print('Você atingiu sua cota máxima.')\n",
    "    print('Você exedeu R$', investimento_total - 15000, 'do valor previsto.')"
   ]
  }
 ],
 "metadata": {
  "kernelspec": {
   "display_name": "Python 3",
   "language": "python",
   "name": "python3"
  },
  "language_info": {
   "codemirror_mode": {
    "name": "ipython",
    "version": 3
   },
   "file_extension": ".py",
   "mimetype": "text/x-python",
   "name": "python",
   "nbconvert_exporter": "python",
   "pygments_lexer": "ipython3",
   "version": "3.11.5"
  }
 },
 "nbformat": 4,
 "nbformat_minor": 2
}

{
 "cells": [
  {
   "cell_type": "markdown",
   "metadata": {},
   "source": [
    "# 9 . Declarações Condicionais\n",
    "---"
   ]
  },
  {
   "cell_type": "markdown",
   "metadata": {},
   "source": [
    "* If (Se)\n",
    "\n",
    "Em linguagens de programação, frequentemente devemos criar estruturas e comandos para atuar de acordo com condições específicas, ou seja, apenas se alguma condição for satisfeita."
   ]
  },
  {
   "cell_type": "code",
   "execution_count": 1,
   "metadata": {},
   "outputs": [],
   "source": [
    "# Exemplo ação com If\n",
    "\n",
    "preco_atual = 27.85"
   ]
  },
  {
   "cell_type": "code",
   "execution_count": 5,
   "metadata": {},
   "outputs": [
    {
     "name": "stdout",
     "output_type": "stream",
     "text": [
      "O preço da ação é 27.85. Portanto, compre!\n"
     ]
    }
   ],
   "source": [
    "if preco_atual < 30:\n",
    "    print(f'O preço da ação é {preco_atual}. Portanto, compre!')"
   ]
  },
  {
   "cell_type": "code",
   "execution_count": 6,
   "metadata": {},
   "outputs": [],
   "source": [
    "if preco_atual > 30:\n",
    "    print(f'O preço atual é {preco_atual}. Portanto, espere cair!')"
   ]
  },
  {
   "cell_type": "markdown",
   "metadata": {},
   "source": [
    "* Else\n",
    "\n",
    "Prestar atenção na indentação (recuo)"
   ]
  },
  {
   "cell_type": "code",
   "execution_count": 4,
   "metadata": {},
   "outputs": [
    {
     "name": "stdout",
     "output_type": "stream",
     "text": [
      "O preço da ação é 27.85. Portanto, compre\n"
     ]
    }
   ],
   "source": [
    "if preco_atual < 30:\n",
    "    print(f'O preço da ação é {preco_atual}. Portanto, compre!')\n",
    "else:\n",
    "    print('Analisar o preço, porém é indicado esperar cair')"
   ]
  },
  {
   "cell_type": "markdown",
   "metadata": {},
   "source": [
    "* Elif\n",
    "\n",
    "**!!! Lembrar que as condições são verificads na ordem do código, portanto sua ordem importa. Cuidado na hora de construir as condições!!!**"
   ]
  },
  {
   "cell_type": "code",
   "execution_count": 10,
   "metadata": {},
   "outputs": [],
   "source": [
    "preco_weg = 41\n",
    "preco_alvo = 38"
   ]
  },
  {
   "cell_type": "code",
   "execution_count": 11,
   "metadata": {},
   "outputs": [
    {
     "name": "stdout",
     "output_type": "stream",
     "text": [
      "Detectamos o início da queda de WEGE3\n"
     ]
    }
   ],
   "source": [
    "if preco_weg < 38:\n",
    "    print('Compre, está abaixo do preço-alvo')\n",
    "elif preco_weg < 40:\n",
    "    print('Está em queda, aguarde')\n",
    "elif preco_weg < 42:\n",
    "    print('Detectamos o início da queda de WEGE3')\n",
    "else:\n",
    "    print('O preço está muito além do desejado')"
   ]
  },
  {
   "cell_type": "code",
   "execution_count": 12,
   "metadata": {},
   "outputs": [
    {
     "name": "stdout",
     "output_type": "stream",
     "text": [
      "Detectamos o início da queda de WEGE3\n"
     ]
    }
   ],
   "source": [
    "# Usando o preco_alvo\n",
    "if preco_weg < preco_alvo:\n",
    "    print('Compre, está abaixo do preço-alvo!')\n",
    "elif preco_weg < (preco_alvo + 2):\n",
    "    print('Está em queda, aguarde.')\n",
    "elif preco_weg < (preco_alvo + 4):\n",
    "    print('Detectamos o início da queda de WEGE3.')\n",
    "else:\n",
    "    print('O preço está muito além do desejado.')"
   ]
  },
  {
   "cell_type": "code",
   "execution_count": 18,
   "metadata": {},
   "outputs": [
    {
     "name": "stdout",
     "output_type": "stream",
     "text": [
      "O cliente comprou COGN3.\n"
     ]
    }
   ],
   "source": [
    "# Outro Exemplo\n",
    "\n",
    "cliente = input('Qual ação você comprou?')\n",
    "\n",
    "if cliente == 'PETR4':\n",
    "    print('O cliente comprou PETR4.')\n",
    "else:\n",
    "    print(f'O cliente comprou {cliente}.')"
   ]
  }
 ],
 "metadata": {
  "kernelspec": {
   "display_name": "Python 3",
   "language": "python",
   "name": "python3"
  },
  "language_info": {
   "codemirror_mode": {
    "name": "ipython",
    "version": 3
   },
   "file_extension": ".py",
   "mimetype": "text/x-python",
   "name": "python",
   "nbconvert_exporter": "python",
   "pygments_lexer": "ipython3",
   "version": "3.11.5"
  }
 },
 "nbformat": 4,
 "nbformat_minor": 2
}

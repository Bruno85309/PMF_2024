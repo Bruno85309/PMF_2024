{
 "cells": [
  {
   "cell_type": "markdown",
   "metadata": {},
   "source": [
    "# 12. List Comprehension"
   ]
  },
  {
   "cell_type": "markdown",
   "metadata": {},
   "source": [
    "Forma de criar listas a partir de outras listas, baseadas em loops com uma estrutura de código mais resumida que os \"for\" tradicionais "
   ]
  },
  {
   "cell_type": "code",
   "execution_count": 2,
   "metadata": {},
   "outputs": [],
   "source": [
    "# Exercício de forma básica, sem compreensão de listas\n",
    "\n",
    "acao = 'MGLU3'"
   ]
  },
  {
   "cell_type": "code",
   "execution_count": 3,
   "metadata": {},
   "outputs": [
    {
     "name": "stdout",
     "output_type": "stream",
     "text": [
      "['M', 'G', 'L', 'U', '3']\n"
     ]
    }
   ],
   "source": [
    "lista_caracteres = []\n",
    "\n",
    "for i in acao:\n",
    "    lista_caracteres.append(i)\n",
    "\n",
    "print(lista_caracteres)"
   ]
  },
  {
   "cell_type": "code",
   "execution_count": 5,
   "metadata": {},
   "outputs": [
    {
     "name": "stdout",
     "output_type": "stream",
     "text": [
      "['M', 'G', 'L', 'U', '3']\n"
     ]
    }
   ],
   "source": [
    "# Exercício com List Comprehension\n",
    "\n",
    "lista_caracteres = [i for i in acao]\n",
    "print(lista_caracteres)"
   ]
  },
  {
   "cell_type": "markdown",
   "metadata": {},
   "source": [
    "O output da compreensão de listas é uma nova lista"
   ]
  },
  {
   "cell_type": "markdown",
   "metadata": {},
   "source": [
    "2. Exercício:\n",
    "\n",
    "Imagine que você recebeu uma série de tickers que vieram incompletos. Antes de realizar sua rotina, precisa adicionar um número '3' aos nome dos papéis. Como você faria?\n"
   ]
  },
  {
   "cell_type": "code",
   "execution_count": 9,
   "metadata": {},
   "outputs": [],
   "source": [
    "ativos = ['MGLU', 'VALE', 'WEGE', 'LREN']"
   ]
  },
  {
   "cell_type": "code",
   "execution_count": 11,
   "metadata": {},
   "outputs": [
    {
     "name": "stdout",
     "output_type": "stream",
     "text": [
      "['MGLU3', 'VALE3', 'WEGE3', 'LREN3']\n"
     ]
    }
   ],
   "source": [
    "ativos = [i + '3' for i in ativos]\n",
    "print(ativos)"
   ]
  },
  {
   "cell_type": "markdown",
   "metadata": {},
   "source": [
    "3. Exercício\n",
    "\n",
    "Imagina que quiséssemos elevar todos os números de 0 a 10 ao quadrado."
   ]
  },
  {
   "cell_type": "code",
   "execution_count": 22,
   "metadata": {},
   "outputs": [],
   "source": [
    "lista = list(range(0,11))"
   ]
  },
  {
   "cell_type": "code",
   "execution_count": 25,
   "metadata": {},
   "outputs": [
    {
     "name": "stdout",
     "output_type": "stream",
     "text": [
      "[0, 1, 4, 9, 16, 25, 36, 49, 64, 81, 100]\n"
     ]
    }
   ],
   "source": [
    "# Tradicional\n",
    "\n",
    "lista_quadrado = []\n",
    "\n",
    "for i in lista:\n",
    "    lista_quadrado.append(i ** 2)\n",
    "\n",
    "print(lista_quadrado)"
   ]
  },
  {
   "cell_type": "code",
   "execution_count": 27,
   "metadata": {},
   "outputs": [
    {
     "name": "stdout",
     "output_type": "stream",
     "text": [
      "[0, 1, 4, 9, 16, 25, 36, 49, 64, 81, 100]\n"
     ]
    }
   ],
   "source": [
    "# Com List Comprehension\n",
    "\n",
    "lista_quadrado = [i ** 2 for i in range(0, 11)]\n",
    "print(lista_quadrado)"
   ]
  },
  {
   "cell_type": "markdown",
   "metadata": {},
   "source": [
    "4. Exercício:\n",
    "\n",
    "Adicionar '.SA' ao fim de cada papel"
   ]
  },
  {
   "cell_type": "code",
   "execution_count": 29,
   "metadata": {},
   "outputs": [
    {
     "name": "stdout",
     "output_type": "stream",
     "text": [
      "['ITUB4', 'MGLU3', 'MLAS3', 'PRIO3', 'PETR4', 'VALE3', 'WEGE3', 'POSI3']\n"
     ]
    }
   ],
   "source": [
    "acoes = 'ITUB4 MGLU3 MLAS3 PRIO3 PETR4 VALE3 WEGE3 POSI3'\n",
    "\n",
    "lista_acoes = acoes.split()\n",
    "\n",
    "print(lista_acoes)"
   ]
  },
  {
   "cell_type": "code",
   "execution_count": 30,
   "metadata": {},
   "outputs": [
    {
     "name": "stdout",
     "output_type": "stream",
     "text": [
      "['ITUB4.SA', 'MGLU3.SA', 'MLAS3.SA', 'PRIO3.SA', 'PETR4.SA', 'VALE3.SA', 'WEGE3.SA', 'POSI3.SA']\n"
     ]
    }
   ],
   "source": [
    "lista_acoes_SA = [i + '.SA' for i in lista_acoes]\n",
    "\n",
    "print(lista_acoes_SA)"
   ]
  },
  {
   "cell_type": "code",
   "execution_count": 32,
   "metadata": {},
   "outputs": [
    {
     "name": "stdout",
     "output_type": "stream",
     "text": [
      "['ITUB4.SA', 'MGLU3.SA', 'MLAS3.SA', 'PRIO3.SA', 'PETR4.SA', 'VALE3.SA', 'WEGE3.SA', 'POSI3.SA']\n"
     ]
    }
   ],
   "source": [
    "# Ou \n",
    "\n",
    "lista_acoes_SA = [f'{papel}.SA' for papel in lista_acoes]\n",
    "\n",
    "print(lista_acoes_SA)"
   ]
  }
 ],
 "metadata": {
  "kernelspec": {
   "display_name": "Python 3",
   "language": "python",
   "name": "python3"
  },
  "language_info": {
   "codemirror_mode": {
    "name": "ipython",
    "version": 3
   },
   "file_extension": ".py",
   "mimetype": "text/x-python",
   "name": "python",
   "nbconvert_exporter": "python",
   "pygments_lexer": "ipython3",
   "version": "3.11.5"
  }
 },
 "nbformat": 4,
 "nbformat_minor": 2
}
